{
 "cells": [
  {
   "cell_type": "code",
   "execution_count": 257,
   "metadata": {},
   "outputs": [],
   "source": [
    "import matplotlib.pyplot as plt\n",
    "import seaborn as sns\n",
    "import pandas as pd\n",
    "import numpy as np\n",
    "import sklearn\n",
    "import feature_engine\n",
    "from sklearn.model_selection import train_test_split"
   ]
  },
  {
   "cell_type": "markdown",
   "metadata": {},
   "source": [
    "#### Variáveis\n",
    "\n",
    "BAD - 1 = \"default”; 0 = não \"default\" - Target  \n",
    "CLAGE - O tempo que tem a mais antiga conta (em meses)  \n",
    "CLNO - Número de linhas de crédito  \n",
    "DEBTINC - Relação entre dívida/receita  \n",
    "DELINQ - Número de linhas de crédito inadimplentes  \n",
    "DEROG - Número de relatórios depreciativos  \n",
    "JOB - Categoria Ocupacional  \n",
    "LOAN - Montante \"em dinheiro\" do empréstimo solicitado  \n",
    "MORTDUE - Montante \"em dinheiro\" devido nas hipotecas ativas  \n",
    "NINQ - Número de consulta de crédito recentes  \n",
    "REASON - DebtCon= consolidação de dívida; HomeImp = melhoramento\n",
    "da casa  \n",
    "VALUE - Valor da propriedade atual  \n",
    "YOJ - Anos no trabalho atual"
   ]
  },
  {
   "cell_type": "code",
   "execution_count": 258,
   "metadata": {},
   "outputs": [],
   "source": [
    "cliente_df = pd.read_csv('./Dados/yochi_base.csv', sep=';')"
   ]
  },
  {
   "cell_type": "markdown",
   "metadata": {},
   "source": [
    "### **Existem candidatos a Dummie?**"
   ]
  },
  {
   "cell_type": "code",
   "execution_count": 259,
   "metadata": {},
   "outputs": [
    {
     "data": {
      "text/plain": [
       "Other      2388\n",
       "ProfExe    1276\n",
       "Office      948\n",
       "Mgr         767\n",
       "NaN         279\n",
       "Self        193\n",
       "Sales       109\n",
       "Name: JOB, dtype: int64"
      ]
     },
     "execution_count": 259,
     "metadata": {},
     "output_type": "execute_result"
    }
   ],
   "source": [
    "cliente_df.JOB.value_counts(dropna=False)"
   ]
  },
  {
   "cell_type": "code",
   "execution_count": 260,
   "metadata": {},
   "outputs": [
    {
     "data": {
      "text/plain": [
       "DebtCon    3928\n",
       "HomeImp    1780\n",
       "NaN         252\n",
       "Name: REASON, dtype: int64"
      ]
     },
     "execution_count": 260,
     "metadata": {},
     "output_type": "execute_result"
    }
   ],
   "source": [
    "cliente_df.REASON.value_counts(dropna=False)"
   ]
  },
  {
   "cell_type": "markdown",
   "metadata": {},
   "source": [
    "**R: Como as variáveis Job e Reason possuem mais de duas categorias e menos de 6, resolvi considerar que as duas serão transformadas em dummie.**"
   ]
  },
  {
   "cell_type": "code",
   "execution_count": 261,
   "metadata": {},
   "outputs": [],
   "source": [
    "lst_dummies = ['JOB','REASON']"
   ]
  },
  {
   "cell_type": "markdown",
   "metadata": {},
   "source": [
    "### **Existem Valores Inválidos?**"
   ]
  },
  {
   "cell_type": "code",
   "execution_count": 262,
   "metadata": {},
   "outputs": [
    {
     "data": {
      "text/html": [
       "<div>\n",
       "<style scoped>\n",
       "    .dataframe tbody tr th:only-of-type {\n",
       "        vertical-align: middle;\n",
       "    }\n",
       "\n",
       "    .dataframe tbody tr th {\n",
       "        vertical-align: top;\n",
       "    }\n",
       "\n",
       "    .dataframe thead th {\n",
       "        text-align: right;\n",
       "    }\n",
       "</style>\n",
       "<table border=\"1\" class=\"dataframe\">\n",
       "  <thead>\n",
       "    <tr style=\"text-align: right;\">\n",
       "      <th></th>\n",
       "      <th>BAD</th>\n",
       "      <th>LOAN</th>\n",
       "      <th>MORTDUE</th>\n",
       "      <th>VALUE</th>\n",
       "      <th>REASON</th>\n",
       "      <th>JOB</th>\n",
       "      <th>YOJ</th>\n",
       "      <th>DEROG</th>\n",
       "      <th>DELINQ</th>\n",
       "      <th>CLAGE</th>\n",
       "      <th>NINQ</th>\n",
       "      <th>CLNO</th>\n",
       "      <th>DEBTINC</th>\n",
       "    </tr>\n",
       "  </thead>\n",
       "  <tbody>\n",
       "    <tr>\n",
       "      <th>5955</th>\n",
       "      <td>0</td>\n",
       "      <td>88900</td>\n",
       "      <td>57264</td>\n",
       "      <td>90185</td>\n",
       "      <td>DebtCon</td>\n",
       "      <td>Other</td>\n",
       "      <td>16</td>\n",
       "      <td>0.0</td>\n",
       "      <td>0.0</td>\n",
       "      <td>221,8087175</td>\n",
       "      <td>0.0</td>\n",
       "      <td>16.0</td>\n",
       "      <td>36,11234652</td>\n",
       "    </tr>\n",
       "    <tr>\n",
       "      <th>5956</th>\n",
       "      <td>0</td>\n",
       "      <td>89000</td>\n",
       "      <td>54576</td>\n",
       "      <td>92937</td>\n",
       "      <td>DebtCon</td>\n",
       "      <td>Other</td>\n",
       "      <td>16</td>\n",
       "      <td>0.0</td>\n",
       "      <td>0.0</td>\n",
       "      <td>208,6920698</td>\n",
       "      <td>0.0</td>\n",
       "      <td>15.0</td>\n",
       "      <td>35,85997068</td>\n",
       "    </tr>\n",
       "    <tr>\n",
       "      <th>5957</th>\n",
       "      <td>0</td>\n",
       "      <td>89200</td>\n",
       "      <td>54045</td>\n",
       "      <td>92924</td>\n",
       "      <td>DebtCon</td>\n",
       "      <td>Other</td>\n",
       "      <td>15</td>\n",
       "      <td>0.0</td>\n",
       "      <td>0.0</td>\n",
       "      <td>212,2796967</td>\n",
       "      <td>0.0</td>\n",
       "      <td>15.0</td>\n",
       "      <td>35,55659049</td>\n",
       "    </tr>\n",
       "    <tr>\n",
       "      <th>5958</th>\n",
       "      <td>0</td>\n",
       "      <td>89800</td>\n",
       "      <td>50370</td>\n",
       "      <td>91861</td>\n",
       "      <td>DebtCon</td>\n",
       "      <td>Other</td>\n",
       "      <td>14</td>\n",
       "      <td>0.0</td>\n",
       "      <td>0.0</td>\n",
       "      <td>213,892709</td>\n",
       "      <td>0.0</td>\n",
       "      <td>16.0</td>\n",
       "      <td>34,34088237</td>\n",
       "    </tr>\n",
       "    <tr>\n",
       "      <th>5959</th>\n",
       "      <td>0</td>\n",
       "      <td>89900</td>\n",
       "      <td>48811</td>\n",
       "      <td>88934</td>\n",
       "      <td>DebtCon</td>\n",
       "      <td>Other</td>\n",
       "      <td>15</td>\n",
       "      <td>0.0</td>\n",
       "      <td>0.0</td>\n",
       "      <td>219,6010022</td>\n",
       "      <td>0.0</td>\n",
       "      <td>16.0</td>\n",
       "      <td>34,57151913</td>\n",
       "    </tr>\n",
       "  </tbody>\n",
       "</table>\n",
       "</div>"
      ],
      "text/plain": [
       "      BAD   LOAN MORTDUE  VALUE   REASON    JOB YOJ  DEROG  DELINQ  \\\n",
       "5955    0  88900   57264  90185  DebtCon  Other  16    0.0     0.0   \n",
       "5956    0  89000   54576  92937  DebtCon  Other  16    0.0     0.0   \n",
       "5957    0  89200   54045  92924  DebtCon  Other  15    0.0     0.0   \n",
       "5958    0  89800   50370  91861  DebtCon  Other  14    0.0     0.0   \n",
       "5959    0  89900   48811  88934  DebtCon  Other  15    0.0     0.0   \n",
       "\n",
       "            CLAGE  NINQ  CLNO      DEBTINC  \n",
       "5955  221,8087175   0.0  16.0  36,11234652  \n",
       "5956  208,6920698   0.0  15.0  35,85997068  \n",
       "5957  212,2796967   0.0  15.0  35,55659049  \n",
       "5958   213,892709   0.0  16.0  34,34088237  \n",
       "5959  219,6010022   0.0  16.0  34,57151913  "
      ]
     },
     "execution_count": 262,
     "metadata": {},
     "output_type": "execute_result"
    }
   ],
   "source": [
    "cliente_df.tail()"
   ]
  },
  {
   "cell_type": "markdown",
   "metadata": {},
   "source": [
    "**R: Ao análisar os dados numéricos percebi que os valores das variáveis CLAGE, YOJ, DEBTINC, LOAN, MORTDUE e VALUE estão configurados com \"virgula\", o que para o python, não considera como numérico. Dessa forma, será necessário alterar trocando o \".\" por \",\".**"
   ]
  },
  {
   "cell_type": "code",
   "execution_count": 263,
   "metadata": {},
   "outputs": [],
   "source": [
    "def transform(df, lst_categoricos, lst_zeros):\n",
    "    # Transformar os valores de CLAGE e YOJ e DEBTINC para valores com ponto no lugar de virgula\n",
    "    df.CLAGE = df.CLAGE.str.replace(\",\",\".\").astype(float)\n",
    "    df.YOJ = df.YOJ.str.replace(\",\",\".\").astype(float)\n",
    "    df.DEBTINC = df.DEBTINC.str.replace(\",\",\".\").astype(float)\n",
    "    # Transforma os campos Loan, Mortdue e Value de Object para float\n",
    "    df.LOAN = df.LOAN.astype(str).str.replace(\",\",\".\").astype(float)\n",
    "    df.MORTDUE = df.MORTDUE.astype(str).str.replace(\",\",\".\").astype(float)\n",
    "    df.VALUE = df.VALUE.astype(str).str.replace(\",\",\".\").astype(float)\n",
    "\n",
    "    # Transforma os nomes REASON e JOB incluindo o identificador _cat para identificar que são categóricos\n",
    "    for column in lst_categoricos:\n",
    "        df[column +'_CAT'] = df[column].astype('object')\n",
    "\n",
    "    df = df.drop(columns = lst_categoricos)\n",
    "\n",
    "    # Preenche com zero os valores que podem ser considerados com zero\n",
    "    for column in lst_zeros:\n",
    "        df[column] = df[column].fillna(0)\n",
    "\n",
    "    return df"
   ]
  },
  {
   "cell_type": "markdown",
   "metadata": {},
   "source": [
    "### Existem valores ausentes?"
   ]
  },
  {
   "cell_type": "code",
   "execution_count": 264,
   "metadata": {},
   "outputs": [
    {
     "data": {
      "text/plain": [
       "BAD           0\n",
       "LOAN          0\n",
       "MORTDUE     518\n",
       "VALUE       112\n",
       "REASON      252\n",
       "JOB         279\n",
       "YOJ         515\n",
       "DEROG       708\n",
       "DELINQ      580\n",
       "CLAGE       308\n",
       "NINQ        510\n",
       "CLNO        222\n",
       "DEBTINC    1267\n",
       "dtype: int64"
      ]
     },
     "execution_count": 264,
     "metadata": {},
     "output_type": "execute_result"
    }
   ],
   "source": [
    "cliente_df.isnull().sum()"
   ]
  },
  {
   "cell_type": "markdown",
   "metadata": {},
   "source": [
    "MORTDUE: Poderá ser preenchido com zero, uma vez que se não existe divida de hipoteca ativa, poderá ser zero mesmo\n",
    "VALUE: Poderá ser preenchido com zero, uma vez que o cliente pode não ter nenhuma propriedade atual\n",
    "YOJ:Poderá ser preenchido com zero, uma vez que o cliente pode não ter completado nenhum ano no trabalho atual\n",
    "DEROG: Poderá ser preenchido com zero, uma vez que podem não existir relatórios depreciativos\n",
    "DELINQ:Poderá ser preenchido com zero, uma vez que podem não existir linhas de créditos inadimplentes\n",
    "CLAGE: Poderá ser preenchido com zero, uma vez que poderá não existir nenhuma conta antiga\n",
    "NINQ: Poderá ser preenchido com zero, uma vez que o cliente pode não ter feito consultas de crédito recentes\n",
    "CLNO: Poderá ser preenchido com zero, uma vez que o cliente pode não ter nenhuma linha de crédito\n",
    "DEBTINC: Poderá ser preenchido com zero, uma vez que o cliente pode não ter relação entre divida/receita"
   ]
  },
  {
   "cell_type": "code",
   "execution_count": 265,
   "metadata": {},
   "outputs": [],
   "source": [
    "lst_zero = ['MORTDUE','VALUE','YOJ','DEROG','DELINQ','CLAGE','NINQ','CLNO','DEBTINC']"
   ]
  },
  {
   "cell_type": "code",
   "execution_count": 266,
   "metadata": {},
   "outputs": [],
   "source": [
    "# Aplica as transformações\n",
    "cliente_df = cliente_df.pipe(transform, lst_categoricos=lst_dummies, lst_zeros= lst_zero)"
   ]
  },
  {
   "cell_type": "code",
   "execution_count": 267,
   "metadata": {},
   "outputs": [
    {
     "name": "stdout",
     "output_type": "stream",
     "text": [
      "<class 'pandas.core.frame.DataFrame'>\n",
      "RangeIndex: 5960 entries, 0 to 5959\n",
      "Data columns (total 13 columns):\n",
      " #   Column      Non-Null Count  Dtype  \n",
      "---  ------      --------------  -----  \n",
      " 0   BAD         5960 non-null   int64  \n",
      " 1   LOAN        5960 non-null   float64\n",
      " 2   MORTDUE     5960 non-null   float64\n",
      " 3   VALUE       5960 non-null   float64\n",
      " 4   YOJ         5960 non-null   float64\n",
      " 5   DEROG       5960 non-null   float64\n",
      " 6   DELINQ      5960 non-null   float64\n",
      " 7   CLAGE       5960 non-null   float64\n",
      " 8   NINQ        5960 non-null   float64\n",
      " 9   CLNO        5960 non-null   float64\n",
      " 10  DEBTINC     5960 non-null   float64\n",
      " 11  JOB_CAT     5681 non-null   object \n",
      " 12  REASON_CAT  5708 non-null   object \n",
      "dtypes: float64(10), int64(1), object(2)\n",
      "memory usage: 605.4+ KB\n"
     ]
    }
   ],
   "source": [
    "cliente_df.info()"
   ]
  },
  {
   "cell_type": "markdown",
   "metadata": {},
   "source": [
    "### **A target está desbalanceada?**"
   ]
  },
  {
   "cell_type": "code",
   "execution_count": 268,
   "metadata": {},
   "outputs": [
    {
     "data": {
      "text/plain": [
       "0    0.800503\n",
       "1    0.199497\n",
       "Name: BAD, dtype: float64"
      ]
     },
     "execution_count": 268,
     "metadata": {},
     "output_type": "execute_result"
    }
   ],
   "source": [
    "cliente_df.BAD.value_counts(normalize=True)"
   ]
  },
  {
   "cell_type": "markdown",
   "metadata": {},
   "source": [
    "**R: Consideramos que 20% ainda é um bom balanceamento**"
   ]
  },
  {
   "cell_type": "markdown",
   "metadata": {},
   "source": [
    "### Gráficos & Analises"
   ]
  },
  {
   "cell_type": "markdown",
   "metadata": {},
   "source": [
    "#### Loan"
   ]
  },
  {
   "cell_type": "code",
   "execution_count": 269,
   "metadata": {},
   "outputs": [
    {
     "data": {
      "text/plain": [
       "count     5960.000000\n",
       "mean     18607.969799\n",
       "std      11207.480417\n",
       "min       1100.000000\n",
       "25%      11100.000000\n",
       "50%      16300.000000\n",
       "75%      23300.000000\n",
       "max      89900.000000\n",
       "Name: LOAN, dtype: float64"
      ]
     },
     "execution_count": 269,
     "metadata": {},
     "output_type": "execute_result"
    }
   ],
   "source": [
    "cliente_df['LOAN'].describe()"
   ]
  },
  {
   "cell_type": "code",
   "execution_count": 270,
   "metadata": {},
   "outputs": [
    {
     "data": {
      "text/plain": [
       "<seaborn.axisgrid.FacetGrid at 0x13e260f3c10>"
      ]
     },
     "execution_count": 270,
     "metadata": {},
     "output_type": "execute_result"
    },
    {
     "data": {
      "text/plain": [
       "<Figure size 648x576 with 0 Axes>"
      ]
     },
     "metadata": {},
     "output_type": "display_data"
    },
    {
     "data": {
      "image/png": "[encoded data removed]",
      "text/plain": [
       "<Figure size 585.725x360 with 1 Axes>"
      ]
     },
     "metadata": {},
     "output_type": "display_data"
    }
   ],
   "source": [
    "plt.figure(figsize=(9, 8))\n",
    "#sns.distplot(x=cliente_df['LOAN'], color='g', bins=100, hist_kws={'alpha': 0.4});\n",
    "sns.displot(data=cliente_df, x='LOAN', hue='BAD', color='g', kind='kde', fill=True, height=5, aspect=1.5)"
   ]
  },
  {
   "cell_type": "code",
   "execution_count": 271,
   "metadata": {},
   "outputs": [
    {
     "data": {
      "text/plain": [
       "<seaborn.axisgrid.FacetGrid at 0x13e28ad1f10>"
      ]
     },
     "execution_count": 271,
     "metadata": {},
     "output_type": "execute_result"
    },
    {
     "data": {
      "image/png": "[encoded data removed]",
      "text/plain": [
       "<Figure size 720x360 with 2 Axes>"
      ]
     },
     "metadata": {},
     "output_type": "display_data"
    }
   ],
   "source": [
    "sns.displot(cliente_df, x=\"LOAN\", col=\"BAD\",multiple=\"dodge\",color='g',stat=\"density\", bins=20)"
   ]
  },
  {
   "cell_type": "code",
   "execution_count": 272,
   "metadata": {},
   "outputs": [
    {
     "data": {
      "text/plain": [
       "(array([0, 1]), [Text(0, 0, '0'), Text(1, 0, '1')])"
      ]
     },
     "execution_count": 272,
     "metadata": {},
     "output_type": "execute_result"
    },
    {
     "data": {
      "image/png": "[encoded data removed]",
      "text/plain": [
       "<Figure size 720x432 with 1 Axes>"
      ]
     },
     "metadata": {},
     "output_type": "display_data"
    }
   ],
   "source": [
    "plt.figure(figsize = (10, 6))\n",
    "ax = sns.boxplot(x=\"BAD\", y='LOAN', data=cliente_df)\n",
    "plt.setp(ax.artists, alpha=.5, linewidth=2, edgecolor=\"k\")\n",
    "plt.xticks(rotation=45)"
   ]
  },
  {
   "cell_type": "markdown",
   "metadata": {},
   "source": [
    "#### MORTDUE"
   ]
  },
  {
   "cell_type": "code",
   "execution_count": 273,
   "metadata": {},
   "outputs": [
    {
     "data": {
      "text/plain": [
       "count      5960.000000\n",
       "mean      67350.061611\n",
       "std       47291.714068\n",
       "min           0.000000\n",
       "25%       38996.500000\n",
       "50%       61739.500000\n",
       "75%       88200.250000\n",
       "max      399550.000000\n",
       "Name: MORTDUE, dtype: float64"
      ]
     },
     "execution_count": 273,
     "metadata": {},
     "output_type": "execute_result"
    }
   ],
   "source": [
    "cliente_df['MORTDUE'].describe()"
   ]
  },
  {
   "cell_type": "code",
   "execution_count": 274,
   "metadata": {},
   "outputs": [
    {
     "data": {
      "text/plain": [
       "<seaborn.axisgrid.FacetGrid at 0x13e28ad0d90>"
      ]
     },
     "execution_count": 274,
     "metadata": {},
     "output_type": "execute_result"
    },
    {
     "data": {
      "text/plain": [
       "<Figure size 648x576 with 0 Axes>"
      ]
     },
     "metadata": {},
     "output_type": "display_data"
    },
    {
     "data": {
      "image/png": "[encoded data removed]",
      "text/plain": [
       "<Figure size 585.725x360 with 1 Axes>"
      ]
     },
     "metadata": {},
     "output_type": "display_data"
    }
   ],
   "source": [
    "plt.figure(figsize=(9, 8))\n",
    "sns.displot(data=cliente_df, x='MORTDUE', hue='BAD', color='g', kind='kde', fill=True, height=5, aspect=1.5)"
   ]
  },
  {
   "cell_type": "code",
   "execution_count": 275,
   "metadata": {},
   "outputs": [
    {
     "data": {
      "text/plain": [
       "(array([0, 1]), [Text(0, 0, '0'), Text(1, 0, '1')])"
      ]
     },
     "execution_count": 275,
     "metadata": {},
     "output_type": "execute_result"
    },
    {
     "data": {
      "image/png": "[encoded data removed]",
      "text/plain": [
       "<Figure size 720x432 with 1 Axes>"
      ]
     },
     "metadata": {},
     "output_type": "display_data"
    }
   ],
   "source": [
    "plt.figure(figsize = (10, 6))\n",
    "ax = sns.boxplot(x=\"BAD\", y='MORTDUE', data=cliente_df)\n",
    "plt.setp(ax.artists, alpha=.5, linewidth=2, edgecolor=\"k\")\n",
    "plt.xticks(rotation=45)"
   ]
  },
  {
   "cell_type": "markdown",
   "metadata": {},
   "source": [
    "### VALUE"
   ]
  },
  {
   "cell_type": "code",
   "execution_count": 276,
   "metadata": {},
   "outputs": [
    {
     "data": {
      "text/plain": [
       "count      5960.000000\n",
       "mean      99863.478698\n",
       "std       58500.089789\n",
       "min           0.000000\n",
       "25%       65000.000000\n",
       "50%       88310.500000\n",
       "75%      119004.750000\n",
       "max      855909.000000\n",
       "Name: VALUE, dtype: float64"
      ]
     },
     "execution_count": 276,
     "metadata": {},
     "output_type": "execute_result"
    }
   ],
   "source": [
    "cliente_df['VALUE'].describe()"
   ]
  },
  {
   "cell_type": "code",
   "execution_count": 277,
   "metadata": {},
   "outputs": [
    {
     "data": {
      "text/plain": [
       "<seaborn.axisgrid.FacetGrid at 0x13e219b2eb0>"
      ]
     },
     "execution_count": 277,
     "metadata": {},
     "output_type": "execute_result"
    },
    {
     "data": {
      "text/plain": [
       "<Figure size 648x576 with 0 Axes>"
      ]
     },
     "metadata": {},
     "output_type": "display_data"
    },
    {
     "data": {
      "image/png": "[encoded data removed]",
      "text/plain": [
       "<Figure size 585.725x360 with 1 Axes>"
      ]
     },
     "metadata": {},
     "output_type": "display_data"
    }
   ],
   "source": [
    "plt.figure(figsize=(9, 8))\n",
    "sns.displot(data=cliente_df, x='VALUE', hue='BAD', color='g', kind='kde', fill=True, height=5, aspect=1.5)"
   ]
  },
  {
   "cell_type": "code",
   "execution_count": 278,
   "metadata": {},
   "outputs": [
    {
     "data": {
      "text/plain": [
       "(array([0, 1]), [Text(0, 0, '0'), Text(1, 0, '1')])"
      ]
     },
     "execution_count": 278,
     "metadata": {},
     "output_type": "execute_result"
    },
    {
     "data": {
      "image/png": "[encoded data removed]",
      "text/plain": [
       "<Figure size 720x432 with 1 Axes>"
      ]
     },
     "metadata": {},
     "output_type": "display_data"
    }
   ],
   "source": [
    "plt.figure(figsize = (10, 6))\n",
    "ax = sns.boxplot(x=\"BAD\", y='VALUE', data=cliente_df)\n",
    "plt.setp(ax.artists, alpha=.5, linewidth=2, edgecolor=\"k\")\n",
    "plt.xticks(rotation=45)"
   ]
  },
  {
   "cell_type": "markdown",
   "metadata": {},
   "source": [
    "### YOJ - Anos no trabalho atual"
   ]
  },
  {
   "cell_type": "code",
   "execution_count": 279,
   "metadata": {},
   "outputs": [
    {
     "data": {
      "text/plain": [
       "count    5960.000000\n",
       "mean        8.151300\n",
       "std         7.661131\n",
       "min         0.000000\n",
       "25%         2.000000\n",
       "50%         6.000000\n",
       "75%        12.000000\n",
       "max        41.000000\n",
       "Name: YOJ, dtype: float64"
      ]
     },
     "execution_count": 279,
     "metadata": {},
     "output_type": "execute_result"
    }
   ],
   "source": [
    "cliente_df['YOJ'].describe()"
   ]
  },
  {
   "cell_type": "code",
   "execution_count": 280,
   "metadata": {},
   "outputs": [
    {
     "data": {
      "text/plain": [
       "<seaborn.axisgrid.FacetGrid at 0x13e26113c10>"
      ]
     },
     "execution_count": 280,
     "metadata": {},
     "output_type": "execute_result"
    },
    {
     "data": {
      "text/plain": [
       "<Figure size 648x576 with 0 Axes>"
      ]
     },
     "metadata": {},
     "output_type": "display_data"
    },
    {
     "data": {
      "image/png": "[encoded data removed]",
      "text/plain": [
       "<Figure size 585.725x360 with 1 Axes>"
      ]
     },
     "metadata": {},
     "output_type": "display_data"
    }
   ],
   "source": [
    "plt.figure(figsize=(9, 8))\n",
    "sns.displot(data=cliente_df, x='YOJ', hue='BAD', color='g', kind='kde', fill=True, height=5, aspect=1.5)"
   ]
  },
  {
   "cell_type": "code",
   "execution_count": 281,
   "metadata": {},
   "outputs": [
    {
     "data": {
      "text/plain": [
       "(array([0, 1]), [Text(0, 0, '0'), Text(1, 0, '1')])"
      ]
     },
     "execution_count": 281,
     "metadata": {},
     "output_type": "execute_result"
    },
    {
     "data": {
      "image/png": "[encoded data removed]",
      "text/plain": [
       "<Figure size 720x432 with 1 Axes>"
      ]
     },
     "metadata": {},
     "output_type": "display_data"
    }
   ],
   "source": [
    "plt.figure(figsize = (10, 6))\n",
    "ax = sns.boxplot(x=\"BAD\", y='YOJ', data=cliente_df)\n",
    "plt.setp(ax.artists, alpha=.5, linewidth=2, edgecolor=\"k\")\n",
    "plt.xticks(rotation=45)"
   ]
  },
  {
   "cell_type": "markdown",
   "metadata": {},
   "source": [
    "### DEROG - Número de relatórios depreciativos"
   ]
  },
  {
   "cell_type": "code",
   "execution_count": 282,
   "metadata": {},
   "outputs": [
    {
     "data": {
      "text/plain": [
       "count    5960.000000\n",
       "mean        0.224329\n",
       "std         0.798458\n",
       "min         0.000000\n",
       "25%         0.000000\n",
       "50%         0.000000\n",
       "75%         0.000000\n",
       "max        10.000000\n",
       "Name: DEROG, dtype: float64"
      ]
     },
     "execution_count": 282,
     "metadata": {},
     "output_type": "execute_result"
    }
   ],
   "source": [
    "cliente_df['DEROG'].describe()"
   ]
  },
  {
   "cell_type": "code",
   "execution_count": 283,
   "metadata": {},
   "outputs": [
    {
     "data": {
      "text/plain": [
       "<seaborn.axisgrid.FacetGrid at 0x13e1d9096d0>"
      ]
     },
     "execution_count": 283,
     "metadata": {},
     "output_type": "execute_result"
    },
    {
     "data": {
      "text/plain": [
       "<Figure size 648x576 with 0 Axes>"
      ]
     },
     "metadata": {},
     "output_type": "display_data"
    },
    {
     "data": {
      "image/png": "[encoded data removed]",
      "text/plain": [
       "<Figure size 585.725x360 with 1 Axes>"
      ]
     },
     "metadata": {},
     "output_type": "display_data"
    }
   ],
   "source": [
    "plt.figure(figsize=(9, 8))\n",
    "sns.displot(data=cliente_df, x='DEROG', hue='BAD', color='g', kind='kde', fill=True, height=5, aspect=1.5)"
   ]
  },
  {
   "cell_type": "code",
   "execution_count": 284,
   "metadata": {},
   "outputs": [
    {
     "data": {
      "text/plain": [
       "(array([0, 1]), [Text(0, 0, '0'), Text(1, 0, '1')])"
      ]
     },
     "execution_count": 284,
     "metadata": {},
     "output_type": "execute_result"
    },
    {
     "data": {
      "image/png": "[encoded data removed]",
      "text/plain": [
       "<Figure size 720x432 with 1 Axes>"
      ]
     },
     "metadata": {},
     "output_type": "display_data"
    }
   ],
   "source": [
    "plt.figure(figsize = (10, 6))\n",
    "ax = sns.boxplot(x=\"BAD\", y='DEROG', data=cliente_df)\n",
    "plt.setp(ax.artists, alpha=.5, linewidth=2, edgecolor=\"k\")\n",
    "plt.xticks(rotation=45)"
   ]
  },
  {
   "cell_type": "code",
   "execution_count": 285,
   "metadata": {},
   "outputs": [
    {
     "data": {
      "text/plain": [
       "0    377\n",
       "1    348\n",
       "Name: BAD, dtype: int64"
      ]
     },
     "execution_count": 285,
     "metadata": {},
     "output_type": "execute_result"
    }
   ],
   "source": [
    "cliente_df[cliente_df.DEROG>0].BAD.value_counts()"
   ]
  },
  {
   "cell_type": "markdown",
   "metadata": {},
   "source": [
    "### DELINQ - Número de linhas de crédito inadimplentes"
   ]
  },
  {
   "cell_type": "code",
   "execution_count": 286,
   "metadata": {},
   "outputs": [
    {
     "data": {
      "text/plain": [
       "count    5960.000000\n",
       "mean        0.405705\n",
       "std         1.079256\n",
       "min         0.000000\n",
       "25%         0.000000\n",
       "50%         0.000000\n",
       "75%         0.000000\n",
       "max        15.000000\n",
       "Name: DELINQ, dtype: float64"
      ]
     },
     "execution_count": 286,
     "metadata": {},
     "output_type": "execute_result"
    }
   ],
   "source": [
    "cliente_df['DELINQ'].describe()"
   ]
  },
  {
   "cell_type": "code",
   "execution_count": 287,
   "metadata": {},
   "outputs": [
    {
     "data": {
      "text/plain": [
       "0    667\n",
       "1    534\n",
       "Name: BAD, dtype: int64"
      ]
     },
     "execution_count": 287,
     "metadata": {},
     "output_type": "execute_result"
    }
   ],
   "source": [
    "cliente_df[cliente_df.DELINQ>0].BAD.value_counts()"
   ]
  },
  {
   "cell_type": "code",
   "execution_count": 288,
   "metadata": {},
   "outputs": [
    {
     "data": {
      "text/plain": [
       "<seaborn.axisgrid.FacetGrid at 0x13e26f69640>"
      ]
     },
     "execution_count": 288,
     "metadata": {},
     "output_type": "execute_result"
    },
    {
     "data": {
      "text/plain": [
       "<Figure size 648x576 with 0 Axes>"
      ]
     },
     "metadata": {},
     "output_type": "display_data"
    },
    {
     "data": {
      "image/png": "[encoded data removed]",
      "text/plain": [
       "<Figure size 585.725x360 with 1 Axes>"
      ]
     },
     "metadata": {},
     "output_type": "display_data"
    }
   ],
   "source": [
    "plt.figure(figsize=(9, 8))\n",
    "sns.displot(data=cliente_df, x='DELINQ', hue='BAD', color='g', kind='kde', fill=True, height=5, aspect=1.5)"
   ]
  },
  {
   "cell_type": "markdown",
   "metadata": {},
   "source": [
    "### CLAGE - O tempo que tem a mais antiga conta (em meses) "
   ]
  },
  {
   "cell_type": "code",
   "execution_count": 289,
   "metadata": {},
   "outputs": [
    {
     "data": {
      "text/plain": [
       "count    5960.000000\n",
       "mean      170.476340\n",
       "std        92.556818\n",
       "min         0.000000\n",
       "25%       107.670203\n",
       "50%       166.675508\n",
       "75%       227.143058\n",
       "max      1168.233561\n",
       "Name: CLAGE, dtype: float64"
      ]
     },
     "execution_count": 289,
     "metadata": {},
     "output_type": "execute_result"
    }
   ],
   "source": [
    "cliente_df['CLAGE'].describe()"
   ]
  },
  {
   "cell_type": "code",
   "execution_count": 290,
   "metadata": {},
   "outputs": [
    {
     "data": {
      "text/plain": [
       "<seaborn.axisgrid.FacetGrid at 0x13e1d979250>"
      ]
     },
     "execution_count": 290,
     "metadata": {},
     "output_type": "execute_result"
    },
    {
     "data": {
      "text/plain": [
       "<Figure size 648x576 with 0 Axes>"
      ]
     },
     "metadata": {},
     "output_type": "display_data"
    },
    {
     "data": {
      "image/png": "[encoded data removed]",
      "text/plain": [
       "<Figure size 585.725x360 with 1 Axes>"
      ]
     },
     "metadata": {},
     "output_type": "display_data"
    }
   ],
   "source": [
    "plt.figure(figsize=(9, 8))\n",
    "sns.displot(data=cliente_df, x='CLAGE', hue='BAD', color='g', kind='kde', fill=True, height=5, aspect=1.5)"
   ]
  },
  {
   "cell_type": "code",
   "execution_count": 291,
   "metadata": {},
   "outputs": [
    {
     "data": {
      "text/plain": [
       "(array([0, 1]), [Text(0, 0, '0'), Text(1, 0, '1')])"
      ]
     },
     "execution_count": 291,
     "metadata": {},
     "output_type": "execute_result"
    },
    {
     "data": {
      "image/png": "[encoded data removed]",
      "text/plain": [
       "<Figure size 720x432 with 1 Axes>"
      ]
     },
     "metadata": {},
     "output_type": "display_data"
    }
   ],
   "source": [
    "plt.figure(figsize = (10, 6))\n",
    "ax = sns.boxplot(x=\"BAD\", y='CLAGE', data=cliente_df)\n",
    "plt.setp(ax.artists, alpha=.5, linewidth=2, edgecolor=\"k\")\n",
    "plt.xticks(rotation=45)"
   ]
  },
  {
   "cell_type": "markdown",
   "metadata": {},
   "source": [
    "### NINQ - Número de consulta de crédito recentes  "
   ]
  },
  {
   "cell_type": "code",
   "execution_count": 292,
   "metadata": {},
   "outputs": [
    {
     "data": {
      "text/plain": [
       "count    5960.000000\n",
       "mean        1.084564\n",
       "std         1.686017\n",
       "min         0.000000\n",
       "25%         0.000000\n",
       "50%         0.000000\n",
       "75%         2.000000\n",
       "max        17.000000\n",
       "Name: NINQ, dtype: float64"
      ]
     },
     "execution_count": 292,
     "metadata": {},
     "output_type": "execute_result"
    }
   ],
   "source": [
    "cliente_df['NINQ'].describe()"
   ]
  },
  {
   "cell_type": "code",
   "execution_count": 293,
   "metadata": {},
   "outputs": [
    {
     "data": {
      "text/plain": [
       "0    2201\n",
       "1     718\n",
       "Name: BAD, dtype: int64"
      ]
     },
     "execution_count": 293,
     "metadata": {},
     "output_type": "execute_result"
    }
   ],
   "source": [
    "cliente_df[cliente_df.NINQ>0].BAD.value_counts()"
   ]
  },
  {
   "cell_type": "code",
   "execution_count": 294,
   "metadata": {},
   "outputs": [
    {
     "data": {
      "text/plain": [
       "(array([0, 1]), [Text(0, 0, '0'), Text(1, 0, '1')])"
      ]
     },
     "execution_count": 294,
     "metadata": {},
     "output_type": "execute_result"
    },
    {
     "data": {
      "image/png": "[encoded data removed]",
      "text/plain": [
       "<Figure size 720x432 with 1 Axes>"
      ]
     },
     "metadata": {},
     "output_type": "display_data"
    }
   ],
   "source": [
    "plt.figure(figsize = (10, 6))\n",
    "ax = sns.boxplot(x=\"BAD\", y='NINQ', data=cliente_df)\n",
    "plt.setp(ax.artists, alpha=.5, linewidth=2, edgecolor=\"k\")\n",
    "plt.xticks(rotation=45)"
   ]
  },
  {
   "cell_type": "markdown",
   "metadata": {},
   "source": [
    "### CLNO - Número de linhas de crédito"
   ]
  },
  {
   "cell_type": "code",
   "execution_count": 295,
   "metadata": {},
   "outputs": [
    {
     "data": {
      "text/plain": [
       "count    5960.000000\n",
       "mean       20.502852\n",
       "std        10.734746\n",
       "min         0.000000\n",
       "25%        14.000000\n",
       "50%        20.000000\n",
       "75%        26.000000\n",
       "max        71.000000\n",
       "Name: CLNO, dtype: float64"
      ]
     },
     "execution_count": 295,
     "metadata": {},
     "output_type": "execute_result"
    }
   ],
   "source": [
    "cliente_df['CLNO'].describe()"
   ]
  },
  {
   "cell_type": "code",
   "execution_count": 296,
   "metadata": {},
   "outputs": [
    {
     "data": {
      "text/plain": [
       "<seaborn.axisgrid.FacetGrid at 0x13e23f43fd0>"
      ]
     },
     "execution_count": 296,
     "metadata": {},
     "output_type": "execute_result"
    },
    {
     "data": {
      "text/plain": [
       "<Figure size 648x576 with 0 Axes>"
      ]
     },
     "metadata": {},
     "output_type": "display_data"
    },
    {
     "data": {
      "image/png": "[encoded data removed]",
      "text/plain": [
       "<Figure size 585.725x360 with 1 Axes>"
      ]
     },
     "metadata": {},
     "output_type": "display_data"
    }
   ],
   "source": [
    "plt.figure(figsize=(9, 8))\n",
    "sns.displot(data=cliente_df, x='CLNO', hue='BAD', color='g', kind='kde', fill=True, height=5, aspect=1.5)"
   ]
  },
  {
   "cell_type": "code",
   "execution_count": 297,
   "metadata": {},
   "outputs": [
    {
     "data": {
      "text/plain": [
       "(array([0, 1]), [Text(0, 0, '0'), Text(1, 0, '1')])"
      ]
     },
     "execution_count": 297,
     "metadata": {},
     "output_type": "execute_result"
    },
    {
     "data": {
      "image/png": "[encoded data removed]",
      "text/plain": [
       "<Figure size 720x432 with 1 Axes>"
      ]
     },
     "metadata": {},
     "output_type": "display_data"
    }
   ],
   "source": [
    "plt.figure(figsize = (10, 6))\n",
    "ax = sns.boxplot(x=\"BAD\", y='CLNO', data=cliente_df)\n",
    "plt.setp(ax.artists, alpha=.5, linewidth=2, edgecolor=\"k\")\n",
    "plt.xticks(rotation=45)"
   ]
  },
  {
   "cell_type": "markdown",
   "metadata": {},
   "source": [
    "### DEBTINC - Relação entre dívida/receita"
   ]
  },
  {
   "cell_type": "code",
   "execution_count": 298,
   "metadata": {},
   "outputs": [
    {
     "data": {
      "text/plain": [
       "count    5960.000000\n",
       "mean       26.598849\n",
       "std        15.789188\n",
       "min         0.000000\n",
       "25%        20.340140\n",
       "50%        31.923742\n",
       "75%        37.949892\n",
       "max       203.312149\n",
       "Name: DEBTINC, dtype: float64"
      ]
     },
     "execution_count": 298,
     "metadata": {},
     "output_type": "execute_result"
    }
   ],
   "source": [
    "cliente_df['DEBTINC'].describe()"
   ]
  },
  {
   "cell_type": "code",
   "execution_count": 299,
   "metadata": {},
   "outputs": [
    {
     "data": {
      "text/plain": [
       "<seaborn.axisgrid.FacetGrid at 0x13e20544cd0>"
      ]
     },
     "execution_count": 299,
     "metadata": {},
     "output_type": "execute_result"
    },
    {
     "data": {
      "text/plain": [
       "<Figure size 648x576 with 0 Axes>"
      ]
     },
     "metadata": {},
     "output_type": "display_data"
    },
    {
     "data": {
      "image/png": "[encoded data removed]",
      "text/plain": [
       "<Figure size 585.725x360 with 1 Axes>"
      ]
     },
     "metadata": {},
     "output_type": "display_data"
    }
   ],
   "source": [
    "plt.figure(figsize=(9, 8))\n",
    "sns.displot(data=cliente_df, x='DEBTINC', hue='BAD', color='g', kind='kde', fill=True, height=5, aspect=1.5)"
   ]
  },
  {
   "cell_type": "code",
   "execution_count": 300,
   "metadata": {},
   "outputs": [
    {
     "data": {
      "text/plain": [
       "(array([0, 1]), [Text(0, 0, '0'), Text(1, 0, '1')])"
      ]
     },
     "execution_count": 300,
     "metadata": {},
     "output_type": "execute_result"
    },
    {
     "data": {
      "image/png": "[encoded data removed]",
      "text/plain": [
       "<Figure size 720x432 with 1 Axes>"
      ]
     },
     "metadata": {},
     "output_type": "display_data"
    }
   ],
   "source": [
    "plt.figure(figsize = (10, 6))\n",
    "ax = sns.boxplot(x=\"BAD\", y='DEBTINC', data=cliente_df)\n",
    "plt.setp(ax.artists, alpha=.5, linewidth=2, edgecolor=\"k\")\n",
    "plt.xticks(rotation=45)"
   ]
  },
  {
   "cell_type": "markdown",
   "metadata": {},
   "source": [
    "### JOB_CAT - Categoria Ocupacional"
   ]
  },
  {
   "cell_type": "code",
   "execution_count": 301,
   "metadata": {},
   "outputs": [
    {
     "data": {
      "text/plain": [
       "count      5681\n",
       "unique        6\n",
       "top       Other\n",
       "freq       2388\n",
       "Name: JOB_CAT, dtype: object"
      ]
     },
     "execution_count": 301,
     "metadata": {},
     "output_type": "execute_result"
    }
   ],
   "source": [
    "cliente_df['JOB_CAT'].describe()"
   ]
  },
  {
   "cell_type": "code",
   "execution_count": 302,
   "metadata": {},
   "outputs": [
    {
     "data": {
      "image/png": "[encoded data removed]",
      "text/plain": [
       "<Figure size 864x432 with 1 Axes>"
      ]
     },
     "metadata": {},
     "output_type": "display_data"
    }
   ],
   "source": [
    "# Crie um DataFrame com a contagem de 'BAD' para cada categoria de trabalho\n",
    "data = cliente_df.groupby(['JOB_CAT', 'BAD']).size().unstack().fillna(0)\n",
    "\n",
    "# Calcule as percentagens dentro de cada categoria de trabalho\n",
    "data_percent = data.div(data.sum(axis=1), axis=0) * 100\n",
    "\n",
    "# Configure o estilo do Seaborn\n",
    "sns.set(style=\"whitegrid\")\n",
    "\n",
    "# Crie o gráfico de barras lado a lado (clustered bar) percentualizado\n",
    "plt.figure(figsize=(12, 6))\n",
    "ax = sns.barplot(data=data_percent.reset_index(), x='JOB_CAT', y=1, color='orange', label='BAD = 1')\n",
    "ax = sns.barplot(data=data_percent.reset_index(), x='JOB_CAT', y=0, color='blue', label='BAD = 0', bottom=data_percent[1])\n",
    "\n",
    "# Adicione rótulos e título\n",
    "plt.xlabel('Categoria de Trabalho (JOB_CAT)')\n",
    "plt.ylabel('Percentagem (%)')\n",
    "plt.title('Percentagem de BAD por Categoria de Trabalho')\n",
    "\n",
    "# Personalize a legenda\n",
    "plt.legend(title='BAD', loc='upper right')\n",
    "\n",
    "# Gire os rótulos do eixo x para melhor legibilidade\n",
    "plt.xticks(rotation=45, ha=\"right\")\n",
    "\n",
    "plt.show()\n"
   ]
  },
  {
   "cell_type": "markdown",
   "metadata": {},
   "source": [
    "### REASON_CAT - DebtCon= consolidação de dívida; HomeImp = melhoramento da casa"
   ]
  },
  {
   "cell_type": "code",
   "execution_count": 303,
   "metadata": {},
   "outputs": [
    {
     "data": {
      "image/png": "[encoded data removed]",
      "text/plain": [
       "<Figure size 864x432 with 1 Axes>"
      ]
     },
     "metadata": {},
     "output_type": "display_data"
    }
   ],
   "source": [
    "# Crie um DataFrame com a contagem de 'BAD' para cada categoria de trabalho\n",
    "data = cliente_df.groupby(['REASON_CAT', 'BAD']).size().unstack().fillna(0)\n",
    "\n",
    "# Calcule as percentagens dentro de cada categoria de trabalho\n",
    "data_percent = data.div(data.sum(axis=1), axis=0) * 100\n",
    "\n",
    "# Configure o estilo do Seaborn\n",
    "sns.set(style=\"whitegrid\")\n",
    "\n",
    "# Crie o gráfico de barras lado a lado (clustered bar) percentualizado\n",
    "plt.figure(figsize=(12, 6))\n",
    "ax = sns.barplot(data=data_percent.reset_index(), x='REASON_CAT', y=1, color='orange', label='BAD = 1')\n",
    "ax = sns.barplot(data=data_percent.reset_index(), x='REASON_CAT', y=0, color='blue', label='BAD = 0', bottom=data_percent[1])\n",
    "\n",
    "# Adicione rótulos e título\n",
    "plt.xlabel('Categoria de Trabalho (REASON_CAT)')\n",
    "plt.ylabel('Percentagem (%)')\n",
    "plt.title('Percentagem de BAD por Categoria de Trabalho')\n",
    "\n",
    "# Personalize a legenda\n",
    "plt.legend(title='BAD', loc='upper right')\n",
    "\n",
    "# Gire os rótulos do eixo x para melhor legibilidade\n",
    "plt.xticks(rotation=45, ha=\"right\")\n",
    "\n",
    "plt.show()\n"
   ]
  },
  {
   "cell_type": "markdown",
   "metadata": {},
   "source": [
    "### Divisão dos Dados"
   ]
  },
  {
   "cell_type": "code",
   "execution_count": 304,
   "metadata": {},
   "outputs": [
    {
     "name": "stdout",
     "output_type": "stream",
     "text": [
      "0    0.800545\n",
      "1    0.199455\n",
      "Name: BAD, dtype: float64\n",
      "0    0.800336\n",
      "1    0.199664\n",
      "Name: BAD, dtype: float64\n"
     ]
    },
    {
     "data": {
      "text/plain": [
       "4987    0\n",
       "3190    0\n",
       "301     0\n",
       "5187    1\n",
       "3240    0\n",
       "Name: BAD, dtype: int64"
      ]
     },
     "execution_count": 304,
     "metadata": {},
     "output_type": "execute_result"
    }
   ],
   "source": [
    "X = cliente_df.drop('BAD', axis = 1)\n",
    "y = cliente_df['BAD']\n",
    "x_train, x_test, y_train, y_test = train_test_split(X, y, test_size = 0.2, \n",
    "                                                    random_state = 0, stratify = y)\n",
    "\n",
    "# --------------- contando -----------------\n",
    "print(y_train.value_counts(normalize=True))\n",
    "print(y_test.value_counts(normalize=True))\n",
    "y_test.head()"
   ]
  },
  {
   "cell_type": "markdown",
   "metadata": {},
   "source": [
    "### Preencher dados nulos (Categóricos)\n",
    "Somente iremos tratar os nulos categóricos pois os valores numéricos foram tratados na primeira etapa"
   ]
  },
  {
   "cell_type": "code",
   "execution_count": 305,
   "metadata": {},
   "outputs": [
    {
     "data": {
      "text/plain": [
       "LOAN            0\n",
       "MORTDUE         0\n",
       "VALUE           0\n",
       "YOJ             0\n",
       "DEROG           0\n",
       "DELINQ          0\n",
       "CLAGE           0\n",
       "NINQ            0\n",
       "CLNO            0\n",
       "DEBTINC         0\n",
       "JOB_CAT       229\n",
       "REASON_CAT    210\n",
       "dtype: int64"
      ]
     },
     "execution_count": 305,
     "metadata": {},
     "output_type": "execute_result"
    }
   ],
   "source": [
    "x_train.isnull().sum()"
   ]
  },
  {
   "cell_type": "code",
   "execution_count": 306,
   "metadata": {},
   "outputs": [],
   "source": [
    "from feature_engine.imputation import CategoricalImputer\n",
    "import category_encoders as ce\n",
    "from sklearn.pipeline import Pipeline"
   ]
  },
  {
   "cell_type": "code",
   "execution_count": 307,
   "metadata": {},
   "outputs": [],
   "source": [
    "ci = CategoricalImputer(imputation_method='missing', fill_value='nao_informado')"
   ]
  },
  {
   "cell_type": "code",
   "execution_count": 308,
   "metadata": {},
   "outputs": [],
   "source": [
    "# Filtrar colunas que terminam com \"_CAT\"\n",
    "filtered_columns = [col for col in x_train.columns if col.endswith(\"_CAT\")]\n",
    "ohe = ce.OneHotEncoder(cols=filtered_columns, handle_unknown='0', use_cat_names=True)"
   ]
  },
  {
   "cell_type": "code",
   "execution_count": 309,
   "metadata": {},
   "outputs": [],
   "source": [
    "# Crie o pipeline\n",
    "pipeline = Pipeline([\n",
    "    ('imputer', ci),  # Imputação de valores ausentes\n",
    "    ('onehot', ohe)  # Codificação one-hot (ou outra transformação)\n",
    "])\n",
    "\n",
    "# Ajuste e transforme os dados\n",
    "X_transformed = pipeline.fit_transform(x_train)"
   ]
  },
  {
   "cell_type": "code",
   "execution_count": 310,
   "metadata": {},
   "outputs": [
    {
     "data": {
      "text/html": [
       "<div>\n",
       "<style scoped>\n",
       "    .dataframe tbody tr th:only-of-type {\n",
       "        vertical-align: middle;\n",
       "    }\n",
       "\n",
       "    .dataframe tbody tr th {\n",
       "        vertical-align: top;\n",
       "    }\n",
       "\n",
       "    .dataframe thead th {\n",
       "        text-align: right;\n",
       "    }\n",
       "</style>\n",
       "<table border=\"1\" class=\"dataframe\">\n",
       "  <thead>\n",
       "    <tr style=\"text-align: right;\">\n",
       "      <th></th>\n",
       "      <th>LOAN</th>\n",
       "      <th>MORTDUE</th>\n",
       "      <th>VALUE</th>\n",
       "      <th>YOJ</th>\n",
       "      <th>DEROG</th>\n",
       "      <th>DELINQ</th>\n",
       "      <th>CLAGE</th>\n",
       "      <th>NINQ</th>\n",
       "      <th>CLNO</th>\n",
       "      <th>DEBTINC</th>\n",
       "      <th>JOB_CAT_Mgr</th>\n",
       "      <th>JOB_CAT_Office</th>\n",
       "      <th>JOB_CAT_Self</th>\n",
       "      <th>JOB_CAT_ProfExe</th>\n",
       "      <th>JOB_CAT_nao_informado</th>\n",
       "      <th>JOB_CAT_Other</th>\n",
       "      <th>JOB_CAT_Sales</th>\n",
       "      <th>REASON_CAT_DebtCon</th>\n",
       "      <th>REASON_CAT_HomeImp</th>\n",
       "      <th>REASON_CAT_nao_informado</th>\n",
       "    </tr>\n",
       "  </thead>\n",
       "  <tbody>\n",
       "    <tr>\n",
       "      <th>868</th>\n",
       "      <td>8800.0</td>\n",
       "      <td>108608.0</td>\n",
       "      <td>0.0</td>\n",
       "      <td>0.0</td>\n",
       "      <td>0.0</td>\n",
       "      <td>6.0</td>\n",
       "      <td>253.471759</td>\n",
       "      <td>4.0</td>\n",
       "      <td>23.0</td>\n",
       "      <td>0.000000</td>\n",
       "      <td>1</td>\n",
       "      <td>0</td>\n",
       "      <td>0</td>\n",
       "      <td>0</td>\n",
       "      <td>0</td>\n",
       "      <td>0</td>\n",
       "      <td>0</td>\n",
       "      <td>1</td>\n",
       "      <td>0</td>\n",
       "      <td>0</td>\n",
       "    </tr>\n",
       "    <tr>\n",
       "      <th>2155</th>\n",
       "      <td>13400.0</td>\n",
       "      <td>95084.0</td>\n",
       "      <td>117279.0</td>\n",
       "      <td>4.0</td>\n",
       "      <td>0.0</td>\n",
       "      <td>0.0</td>\n",
       "      <td>145.962344</td>\n",
       "      <td>0.0</td>\n",
       "      <td>21.0</td>\n",
       "      <td>39.244669</td>\n",
       "      <td>0</td>\n",
       "      <td>1</td>\n",
       "      <td>0</td>\n",
       "      <td>0</td>\n",
       "      <td>0</td>\n",
       "      <td>0</td>\n",
       "      <td>0</td>\n",
       "      <td>0</td>\n",
       "      <td>1</td>\n",
       "      <td>0</td>\n",
       "    </tr>\n",
       "    <tr>\n",
       "      <th>5798</th>\n",
       "      <td>48800.0</td>\n",
       "      <td>47476.0</td>\n",
       "      <td>105332.0</td>\n",
       "      <td>9.0</td>\n",
       "      <td>0.0</td>\n",
       "      <td>0.0</td>\n",
       "      <td>194.138918</td>\n",
       "      <td>3.0</td>\n",
       "      <td>36.0</td>\n",
       "      <td>40.653435</td>\n",
       "      <td>0</td>\n",
       "      <td>0</td>\n",
       "      <td>1</td>\n",
       "      <td>0</td>\n",
       "      <td>0</td>\n",
       "      <td>0</td>\n",
       "      <td>0</td>\n",
       "      <td>0</td>\n",
       "      <td>1</td>\n",
       "      <td>0</td>\n",
       "    </tr>\n",
       "    <tr>\n",
       "      <th>5904</th>\n",
       "      <td>63300.0</td>\n",
       "      <td>202000.0</td>\n",
       "      <td>281000.0</td>\n",
       "      <td>2.0</td>\n",
       "      <td>0.0</td>\n",
       "      <td>0.0</td>\n",
       "      <td>99.433333</td>\n",
       "      <td>2.0</td>\n",
       "      <td>21.0</td>\n",
       "      <td>0.000000</td>\n",
       "      <td>0</td>\n",
       "      <td>0</td>\n",
       "      <td>0</td>\n",
       "      <td>1</td>\n",
       "      <td>0</td>\n",
       "      <td>0</td>\n",
       "      <td>0</td>\n",
       "      <td>1</td>\n",
       "      <td>0</td>\n",
       "      <td>0</td>\n",
       "    </tr>\n",
       "    <tr>\n",
       "      <th>3564</th>\n",
       "      <td>18700.0</td>\n",
       "      <td>66003.0</td>\n",
       "      <td>82410.0</td>\n",
       "      <td>0.0</td>\n",
       "      <td>1.0</td>\n",
       "      <td>0.0</td>\n",
       "      <td>85.773808</td>\n",
       "      <td>1.0</td>\n",
       "      <td>23.0</td>\n",
       "      <td>51.517385</td>\n",
       "      <td>1</td>\n",
       "      <td>0</td>\n",
       "      <td>0</td>\n",
       "      <td>0</td>\n",
       "      <td>0</td>\n",
       "      <td>0</td>\n",
       "      <td>0</td>\n",
       "      <td>1</td>\n",
       "      <td>0</td>\n",
       "      <td>0</td>\n",
       "    </tr>\n",
       "    <tr>\n",
       "      <th>...</th>\n",
       "      <td>...</td>\n",
       "      <td>...</td>\n",
       "      <td>...</td>\n",
       "      <td>...</td>\n",
       "      <td>...</td>\n",
       "      <td>...</td>\n",
       "      <td>...</td>\n",
       "      <td>...</td>\n",
       "      <td>...</td>\n",
       "      <td>...</td>\n",
       "      <td>...</td>\n",
       "      <td>...</td>\n",
       "      <td>...</td>\n",
       "      <td>...</td>\n",
       "      <td>...</td>\n",
       "      <td>...</td>\n",
       "      <td>...</td>\n",
       "      <td>...</td>\n",
       "      <td>...</td>\n",
       "      <td>...</td>\n",
       "    </tr>\n",
       "    <tr>\n",
       "      <th>5343</th>\n",
       "      <td>30200.0</td>\n",
       "      <td>124000.0</td>\n",
       "      <td>171366.0</td>\n",
       "      <td>13.0</td>\n",
       "      <td>0.0</td>\n",
       "      <td>0.0</td>\n",
       "      <td>176.500000</td>\n",
       "      <td>2.0</td>\n",
       "      <td>28.0</td>\n",
       "      <td>0.000000</td>\n",
       "      <td>1</td>\n",
       "      <td>0</td>\n",
       "      <td>0</td>\n",
       "      <td>0</td>\n",
       "      <td>0</td>\n",
       "      <td>0</td>\n",
       "      <td>0</td>\n",
       "      <td>1</td>\n",
       "      <td>0</td>\n",
       "      <td>0</td>\n",
       "    </tr>\n",
       "    <tr>\n",
       "      <th>2880</th>\n",
       "      <td>16000.0</td>\n",
       "      <td>82097.0</td>\n",
       "      <td>100225.0</td>\n",
       "      <td>0.0</td>\n",
       "      <td>0.0</td>\n",
       "      <td>0.0</td>\n",
       "      <td>129.374513</td>\n",
       "      <td>0.0</td>\n",
       "      <td>22.0</td>\n",
       "      <td>39.827217</td>\n",
       "      <td>0</td>\n",
       "      <td>0</td>\n",
       "      <td>0</td>\n",
       "      <td>0</td>\n",
       "      <td>0</td>\n",
       "      <td>1</td>\n",
       "      <td>0</td>\n",
       "      <td>1</td>\n",
       "      <td>0</td>\n",
       "      <td>0</td>\n",
       "    </tr>\n",
       "    <tr>\n",
       "      <th>1718</th>\n",
       "      <td>12000.0</td>\n",
       "      <td>87000.0</td>\n",
       "      <td>101200.0</td>\n",
       "      <td>13.0</td>\n",
       "      <td>0.0</td>\n",
       "      <td>2.0</td>\n",
       "      <td>151.133333</td>\n",
       "      <td>1.0</td>\n",
       "      <td>18.0</td>\n",
       "      <td>0.000000</td>\n",
       "      <td>0</td>\n",
       "      <td>0</td>\n",
       "      <td>0</td>\n",
       "      <td>0</td>\n",
       "      <td>0</td>\n",
       "      <td>0</td>\n",
       "      <td>1</td>\n",
       "      <td>1</td>\n",
       "      <td>0</td>\n",
       "      <td>0</td>\n",
       "    </tr>\n",
       "    <tr>\n",
       "      <th>46</th>\n",
       "      <td>3000.0</td>\n",
       "      <td>47000.0</td>\n",
       "      <td>82700.0</td>\n",
       "      <td>10.0</td>\n",
       "      <td>0.0</td>\n",
       "      <td>1.0</td>\n",
       "      <td>262.166667</td>\n",
       "      <td>5.0</td>\n",
       "      <td>26.0</td>\n",
       "      <td>0.000000</td>\n",
       "      <td>0</td>\n",
       "      <td>0</td>\n",
       "      <td>0</td>\n",
       "      <td>1</td>\n",
       "      <td>0</td>\n",
       "      <td>0</td>\n",
       "      <td>0</td>\n",
       "      <td>0</td>\n",
       "      <td>1</td>\n",
       "      <td>0</td>\n",
       "    </tr>\n",
       "    <tr>\n",
       "      <th>3159</th>\n",
       "      <td>17000.0</td>\n",
       "      <td>55820.0</td>\n",
       "      <td>88683.0</td>\n",
       "      <td>0.5</td>\n",
       "      <td>0.0</td>\n",
       "      <td>0.0</td>\n",
       "      <td>74.033333</td>\n",
       "      <td>0.0</td>\n",
       "      <td>23.0</td>\n",
       "      <td>0.000000</td>\n",
       "      <td>0</td>\n",
       "      <td>1</td>\n",
       "      <td>0</td>\n",
       "      <td>0</td>\n",
       "      <td>0</td>\n",
       "      <td>0</td>\n",
       "      <td>0</td>\n",
       "      <td>1</td>\n",
       "      <td>0</td>\n",
       "      <td>0</td>\n",
       "    </tr>\n",
       "  </tbody>\n",
       "</table>\n",
       "<p>4768 rows × 20 columns</p>\n",
       "</div>"
      ],
      "text/plain": [
       "         LOAN   MORTDUE     VALUE   YOJ  DEROG  DELINQ       CLAGE  NINQ  \\\n",
       "868    8800.0  108608.0       0.0   0.0    0.0     6.0  253.471759   4.0   \n",
       "2155  13400.0   95084.0  117279.0   4.0    0.0     0.0  145.962344   0.0   \n",
       "5798  48800.0   47476.0  105332.0   9.0    0.0     0.0  194.138918   3.0   \n",
       "5904  63300.0  202000.0  281000.0   2.0    0.0     0.0   99.433333   2.0   \n",
       "3564  18700.0   66003.0   82410.0   0.0    1.0     0.0   85.773808   1.0   \n",
       "...       ...       ...       ...   ...    ...     ...         ...   ...   \n",
       "5343  30200.0  124000.0  171366.0  13.0    0.0     0.0  176.500000   2.0   \n",
       "2880  16000.0   82097.0  100225.0   0.0    0.0     0.0  129.374513   0.0   \n",
       "1718  12000.0   87000.0  101200.0  13.0    0.0     2.0  151.133333   1.0   \n",
       "46     3000.0   47000.0   82700.0  10.0    0.0     1.0  262.166667   5.0   \n",
       "3159  17000.0   55820.0   88683.0   0.5    0.0     0.0   74.033333   0.0   \n",
       "\n",
       "      CLNO    DEBTINC  JOB_CAT_Mgr  JOB_CAT_Office  JOB_CAT_Self  \\\n",
       "868   23.0   0.000000            1               0             0   \n",
       "2155  21.0  39.244669            0               1             0   \n",
       "5798  36.0  40.653435            0               0             1   \n",
       "5904  21.0   0.000000            0               0             0   \n",
       "3564  23.0  51.517385            1               0             0   \n",
       "...    ...        ...          ...             ...           ...   \n",
       "5343  28.0   0.000000            1               0             0   \n",
       "2880  22.0  39.827217            0               0             0   \n",
       "1718  18.0   0.000000            0               0             0   \n",
       "46    26.0   0.000000            0               0             0   \n",
       "3159  23.0   0.000000            0               1             0   \n",
       "\n",
       "      JOB_CAT_ProfExe  JOB_CAT_nao_informado  JOB_CAT_Other  JOB_CAT_Sales  \\\n",
       "868                 0                      0              0              0   \n",
       "2155                0                      0              0              0   \n",
       "5798                0                      0              0              0   \n",
       "5904                1                      0              0              0   \n",
       "3564                0                      0              0              0   \n",
       "...               ...                    ...            ...            ...   \n",
       "5343                0                      0              0              0   \n",
       "2880                0                      0              1              0   \n",
       "1718                0                      0              0              1   \n",
       "46                  1                      0              0              0   \n",
       "3159                0                      0              0              0   \n",
       "\n",
       "      REASON_CAT_DebtCon  REASON_CAT_HomeImp  REASON_CAT_nao_informado  \n",
       "868                    1                   0                         0  \n",
       "2155                   0                   1                         0  \n",
       "5798                   0                   1                         0  \n",
       "5904                   1                   0                         0  \n",
       "3564                   1                   0                         0  \n",
       "...                  ...                 ...                       ...  \n",
       "5343                   1                   0                         0  \n",
       "2880                   1                   0                         0  \n",
       "1718                   1                   0                         0  \n",
       "46                     0                   1                         0  \n",
       "3159                   1                   0                         0  \n",
       "\n",
       "[4768 rows x 20 columns]"
      ]
     },
     "execution_count": 310,
     "metadata": {},
     "output_type": "execute_result"
    }
   ],
   "source": [
    "X_transformed"
   ]
  },
  {
   "cell_type": "code",
   "execution_count": 311,
   "metadata": {},
   "outputs": [],
   "source": [
    "# Ajuste e transforme os dados\n",
    "X_test_transformed = pipeline.fit_transform(x_test)"
   ]
  },
  {
   "cell_type": "code",
   "execution_count": 312,
   "metadata": {},
   "outputs": [
    {
     "data": {
      "text/html": [
       "<div>\n",
       "<style scoped>\n",
       "    .dataframe tbody tr th:only-of-type {\n",
       "        vertical-align: middle;\n",
       "    }\n",
       "\n",
       "    .dataframe tbody tr th {\n",
       "        vertical-align: top;\n",
       "    }\n",
       "\n",
       "    .dataframe thead th {\n",
       "        text-align: right;\n",
       "    }\n",
       "</style>\n",
       "<table border=\"1\" class=\"dataframe\">\n",
       "  <thead>\n",
       "    <tr style=\"text-align: right;\">\n",
       "      <th></th>\n",
       "      <th>LOAN</th>\n",
       "      <th>MORTDUE</th>\n",
       "      <th>VALUE</th>\n",
       "      <th>YOJ</th>\n",
       "      <th>DEROG</th>\n",
       "      <th>DELINQ</th>\n",
       "      <th>CLAGE</th>\n",
       "      <th>NINQ</th>\n",
       "      <th>CLNO</th>\n",
       "      <th>DEBTINC</th>\n",
       "      <th>JOB_CAT_Self</th>\n",
       "      <th>JOB_CAT_Other</th>\n",
       "      <th>JOB_CAT_Mgr</th>\n",
       "      <th>JOB_CAT_ProfExe</th>\n",
       "      <th>JOB_CAT_Office</th>\n",
       "      <th>JOB_CAT_nao_informado</th>\n",
       "      <th>JOB_CAT_Sales</th>\n",
       "      <th>REASON_CAT_HomeImp</th>\n",
       "      <th>REASON_CAT_DebtCon</th>\n",
       "      <th>REASON_CAT_nao_informado</th>\n",
       "    </tr>\n",
       "  </thead>\n",
       "  <tbody>\n",
       "    <tr>\n",
       "      <th>4987</th>\n",
       "      <td>26400.0</td>\n",
       "      <td>240907.0</td>\n",
       "      <td>260638.0</td>\n",
       "      <td>7.0</td>\n",
       "      <td>1.0</td>\n",
       "      <td>0.0</td>\n",
       "      <td>255.415514</td>\n",
       "      <td>3.0</td>\n",
       "      <td>51.0</td>\n",
       "      <td>37.652919</td>\n",
       "      <td>1</td>\n",
       "      <td>0</td>\n",
       "      <td>0</td>\n",
       "      <td>0</td>\n",
       "      <td>0</td>\n",
       "      <td>0</td>\n",
       "      <td>0</td>\n",
       "      <td>1</td>\n",
       "      <td>0</td>\n",
       "      <td>0</td>\n",
       "    </tr>\n",
       "    <tr>\n",
       "      <th>3190</th>\n",
       "      <td>17100.0</td>\n",
       "      <td>43085.0</td>\n",
       "      <td>68758.0</td>\n",
       "      <td>7.0</td>\n",
       "      <td>0.0</td>\n",
       "      <td>1.0</td>\n",
       "      <td>103.683856</td>\n",
       "      <td>3.0</td>\n",
       "      <td>49.0</td>\n",
       "      <td>30.353549</td>\n",
       "      <td>0</td>\n",
       "      <td>1</td>\n",
       "      <td>0</td>\n",
       "      <td>0</td>\n",
       "      <td>0</td>\n",
       "      <td>0</td>\n",
       "      <td>0</td>\n",
       "      <td>0</td>\n",
       "      <td>1</td>\n",
       "      <td>0</td>\n",
       "    </tr>\n",
       "    <tr>\n",
       "      <th>301</th>\n",
       "      <td>5900.0</td>\n",
       "      <td>74187.0</td>\n",
       "      <td>78976.0</td>\n",
       "      <td>9.0</td>\n",
       "      <td>0.0</td>\n",
       "      <td>1.0</td>\n",
       "      <td>118.442491</td>\n",
       "      <td>0.0</td>\n",
       "      <td>24.0</td>\n",
       "      <td>40.110407</td>\n",
       "      <td>0</td>\n",
       "      <td>1</td>\n",
       "      <td>0</td>\n",
       "      <td>0</td>\n",
       "      <td>0</td>\n",
       "      <td>0</td>\n",
       "      <td>0</td>\n",
       "      <td>1</td>\n",
       "      <td>0</td>\n",
       "      <td>0</td>\n",
       "    </tr>\n",
       "    <tr>\n",
       "      <th>5187</th>\n",
       "      <td>27900.0</td>\n",
       "      <td>90694.0</td>\n",
       "      <td>121543.0</td>\n",
       "      <td>5.0</td>\n",
       "      <td>2.0</td>\n",
       "      <td>1.0</td>\n",
       "      <td>107.046251</td>\n",
       "      <td>8.0</td>\n",
       "      <td>15.0</td>\n",
       "      <td>0.838118</td>\n",
       "      <td>0</td>\n",
       "      <td>0</td>\n",
       "      <td>1</td>\n",
       "      <td>0</td>\n",
       "      <td>0</td>\n",
       "      <td>0</td>\n",
       "      <td>0</td>\n",
       "      <td>0</td>\n",
       "      <td>1</td>\n",
       "      <td>0</td>\n",
       "    </tr>\n",
       "    <tr>\n",
       "      <th>3240</th>\n",
       "      <td>17300.0</td>\n",
       "      <td>110614.0</td>\n",
       "      <td>137552.0</td>\n",
       "      <td>6.0</td>\n",
       "      <td>0.0</td>\n",
       "      <td>0.0</td>\n",
       "      <td>85.232501</td>\n",
       "      <td>0.0</td>\n",
       "      <td>13.0</td>\n",
       "      <td>31.344366</td>\n",
       "      <td>0</td>\n",
       "      <td>0</td>\n",
       "      <td>0</td>\n",
       "      <td>1</td>\n",
       "      <td>0</td>\n",
       "      <td>0</td>\n",
       "      <td>0</td>\n",
       "      <td>0</td>\n",
       "      <td>1</td>\n",
       "      <td>0</td>\n",
       "    </tr>\n",
       "    <tr>\n",
       "      <th>...</th>\n",
       "      <td>...</td>\n",
       "      <td>...</td>\n",
       "      <td>...</td>\n",
       "      <td>...</td>\n",
       "      <td>...</td>\n",
       "      <td>...</td>\n",
       "      <td>...</td>\n",
       "      <td>...</td>\n",
       "      <td>...</td>\n",
       "      <td>...</td>\n",
       "      <td>...</td>\n",
       "      <td>...</td>\n",
       "      <td>...</td>\n",
       "      <td>...</td>\n",
       "      <td>...</td>\n",
       "      <td>...</td>\n",
       "      <td>...</td>\n",
       "      <td>...</td>\n",
       "      <td>...</td>\n",
       "      <td>...</td>\n",
       "    </tr>\n",
       "    <tr>\n",
       "      <th>5957</th>\n",
       "      <td>89200.0</td>\n",
       "      <td>54045.0</td>\n",
       "      <td>92924.0</td>\n",
       "      <td>15.0</td>\n",
       "      <td>0.0</td>\n",
       "      <td>0.0</td>\n",
       "      <td>212.279697</td>\n",
       "      <td>0.0</td>\n",
       "      <td>15.0</td>\n",
       "      <td>35.556590</td>\n",
       "      <td>0</td>\n",
       "      <td>1</td>\n",
       "      <td>0</td>\n",
       "      <td>0</td>\n",
       "      <td>0</td>\n",
       "      <td>0</td>\n",
       "      <td>0</td>\n",
       "      <td>0</td>\n",
       "      <td>1</td>\n",
       "      <td>0</td>\n",
       "    </tr>\n",
       "    <tr>\n",
       "      <th>828</th>\n",
       "      <td>8600.0</td>\n",
       "      <td>75464.0</td>\n",
       "      <td>84263.0</td>\n",
       "      <td>21.0</td>\n",
       "      <td>0.0</td>\n",
       "      <td>0.0</td>\n",
       "      <td>352.658271</td>\n",
       "      <td>0.0</td>\n",
       "      <td>47.0</td>\n",
       "      <td>28.196715</td>\n",
       "      <td>0</td>\n",
       "      <td>1</td>\n",
       "      <td>0</td>\n",
       "      <td>0</td>\n",
       "      <td>0</td>\n",
       "      <td>0</td>\n",
       "      <td>0</td>\n",
       "      <td>1</td>\n",
       "      <td>0</td>\n",
       "      <td>0</td>\n",
       "    </tr>\n",
       "    <tr>\n",
       "      <th>847</th>\n",
       "      <td>8700.0</td>\n",
       "      <td>77377.0</td>\n",
       "      <td>97070.0</td>\n",
       "      <td>3.0</td>\n",
       "      <td>0.0</td>\n",
       "      <td>0.0</td>\n",
       "      <td>68.854877</td>\n",
       "      <td>2.0</td>\n",
       "      <td>24.0</td>\n",
       "      <td>38.217726</td>\n",
       "      <td>0</td>\n",
       "      <td>0</td>\n",
       "      <td>1</td>\n",
       "      <td>0</td>\n",
       "      <td>0</td>\n",
       "      <td>0</td>\n",
       "      <td>0</td>\n",
       "      <td>0</td>\n",
       "      <td>1</td>\n",
       "      <td>0</td>\n",
       "    </tr>\n",
       "    <tr>\n",
       "      <th>5953</th>\n",
       "      <td>88800.0</td>\n",
       "      <td>53307.0</td>\n",
       "      <td>94058.0</td>\n",
       "      <td>16.0</td>\n",
       "      <td>0.0</td>\n",
       "      <td>0.0</td>\n",
       "      <td>218.304978</td>\n",
       "      <td>0.0</td>\n",
       "      <td>15.0</td>\n",
       "      <td>34.242465</td>\n",
       "      <td>0</td>\n",
       "      <td>1</td>\n",
       "      <td>0</td>\n",
       "      <td>0</td>\n",
       "      <td>0</td>\n",
       "      <td>0</td>\n",
       "      <td>0</td>\n",
       "      <td>0</td>\n",
       "      <td>1</td>\n",
       "      <td>0</td>\n",
       "    </tr>\n",
       "    <tr>\n",
       "      <th>2962</th>\n",
       "      <td>16300.0</td>\n",
       "      <td>31800.0</td>\n",
       "      <td>63000.0</td>\n",
       "      <td>12.0</td>\n",
       "      <td>1.0</td>\n",
       "      <td>5.0</td>\n",
       "      <td>124.900000</td>\n",
       "      <td>1.0</td>\n",
       "      <td>14.0</td>\n",
       "      <td>0.000000</td>\n",
       "      <td>0</td>\n",
       "      <td>1</td>\n",
       "      <td>0</td>\n",
       "      <td>0</td>\n",
       "      <td>0</td>\n",
       "      <td>0</td>\n",
       "      <td>0</td>\n",
       "      <td>0</td>\n",
       "      <td>1</td>\n",
       "      <td>0</td>\n",
       "    </tr>\n",
       "  </tbody>\n",
       "</table>\n",
       "<p>1192 rows × 20 columns</p>\n",
       "</div>"
      ],
      "text/plain": [
       "         LOAN   MORTDUE     VALUE   YOJ  DEROG  DELINQ       CLAGE  NINQ  \\\n",
       "4987  26400.0  240907.0  260638.0   7.0    1.0     0.0  255.415514   3.0   \n",
       "3190  17100.0   43085.0   68758.0   7.0    0.0     1.0  103.683856   3.0   \n",
       "301    5900.0   74187.0   78976.0   9.0    0.0     1.0  118.442491   0.0   \n",
       "5187  27900.0   90694.0  121543.0   5.0    2.0     1.0  107.046251   8.0   \n",
       "3240  17300.0  110614.0  137552.0   6.0    0.0     0.0   85.232501   0.0   \n",
       "...       ...       ...       ...   ...    ...     ...         ...   ...   \n",
       "5957  89200.0   54045.0   92924.0  15.0    0.0     0.0  212.279697   0.0   \n",
       "828    8600.0   75464.0   84263.0  21.0    0.0     0.0  352.658271   0.0   \n",
       "847    8700.0   77377.0   97070.0   3.0    0.0     0.0   68.854877   2.0   \n",
       "5953  88800.0   53307.0   94058.0  16.0    0.0     0.0  218.304978   0.0   \n",
       "2962  16300.0   31800.0   63000.0  12.0    1.0     5.0  124.900000   1.0   \n",
       "\n",
       "      CLNO    DEBTINC  JOB_CAT_Self  JOB_CAT_Other  JOB_CAT_Mgr  \\\n",
       "4987  51.0  37.652919             1              0            0   \n",
       "3190  49.0  30.353549             0              1            0   \n",
       "301   24.0  40.110407             0              1            0   \n",
       "5187  15.0   0.838118             0              0            1   \n",
       "3240  13.0  31.344366             0              0            0   \n",
       "...    ...        ...           ...            ...          ...   \n",
       "5957  15.0  35.556590             0              1            0   \n",
       "828   47.0  28.196715             0              1            0   \n",
       "847   24.0  38.217726             0              0            1   \n",
       "5953  15.0  34.242465             0              1            0   \n",
       "2962  14.0   0.000000             0              1            0   \n",
       "\n",
       "      JOB_CAT_ProfExe  JOB_CAT_Office  JOB_CAT_nao_informado  JOB_CAT_Sales  \\\n",
       "4987                0               0                      0              0   \n",
       "3190                0               0                      0              0   \n",
       "301                 0               0                      0              0   \n",
       "5187                0               0                      0              0   \n",
       "3240                1               0                      0              0   \n",
       "...               ...             ...                    ...            ...   \n",
       "5957                0               0                      0              0   \n",
       "828                 0               0                      0              0   \n",
       "847                 0               0                      0              0   \n",
       "5953                0               0                      0              0   \n",
       "2962                0               0                      0              0   \n",
       "\n",
       "      REASON_CAT_HomeImp  REASON_CAT_DebtCon  REASON_CAT_nao_informado  \n",
       "4987                   1                   0                         0  \n",
       "3190                   0                   1                         0  \n",
       "301                    1                   0                         0  \n",
       "5187                   0                   1                         0  \n",
       "3240                   0                   1                         0  \n",
       "...                  ...                 ...                       ...  \n",
       "5957                   0                   1                         0  \n",
       "828                    1                   0                         0  \n",
       "847                    0                   1                         0  \n",
       "5953                   0                   1                         0  \n",
       "2962                   0                   1                         0  \n",
       "\n",
       "[1192 rows x 20 columns]"
      ]
     },
     "execution_count": 312,
     "metadata": {},
     "output_type": "execute_result"
    }
   ],
   "source": [
    "X_test_transformed"
   ]
  },
  {
   "cell_type": "code",
   "execution_count": 313,
   "metadata": {},
   "outputs": [
    {
     "name": "stdout",
     "output_type": "stream",
     "text": [
      "LOAN                        1.038686e-07\n",
      "MORTDUE                     3.982356e-07\n",
      "VALUE                      -1.081204e-07\n",
      "YOJ                        -1.196235e-03\n",
      "DEROG                       8.406823e-02\n",
      "DELINQ                      9.397004e-02\n",
      "CLAGE                      -7.356749e-04\n",
      "NINQ                        2.134877e-02\n",
      "CLNO                       -1.257825e-04\n",
      "DEBTINC                    -7.948689e-03\n",
      "JOB_CAT_Mgr                -7.565941e-03\n",
      "JOB_CAT_Office             -4.587488e-02\n",
      "JOB_CAT_Self                6.344071e-02\n",
      "JOB_CAT_ProfExe            -2.673617e-02\n",
      "JOB_CAT_nao_informado      -1.885944e-01\n",
      "JOB_CAT_Other               1.891981e-02\n",
      "JOB_CAT_Sales               1.864109e-01\n",
      "REASON_CAT_DebtCon         -1.925116e-02\n",
      "REASON_CAT_HomeImp          2.033872e-02\n",
      "REASON_CAT_nao_informado   -1.087557e-03\n",
      "dtype: float64\n"
     ]
    },
    {
     "data": {
      "text/plain": [
       "<AxesSubplot:>"
      ]
     },
     "execution_count": 313,
     "metadata": {},
     "output_type": "execute_result"
    },
    {
     "data": {
      "image/png": "[encoded data removed]",
      "text/plain": [
       "<Figure size 432x288 with 1 Axes>"
      ]
     },
     "metadata": {},
     "output_type": "display_data"
    }
   ],
   "source": [
    "# #Testar seleção de variaveis - Regressão\n",
    "from sklearn.linear_model import LinearRegression\n",
    "from matplotlib import pyplot\n",
    "# Definir Modelo\n",
    "model = LinearRegression()\n",
    "model.fit(X_transformed,y_train)\n",
    "# Importancia\n",
    "importance = model.coef_\n",
    "importance_reg = pd.Series(model.coef_, index=X_transformed.columns)\n",
    "# Sumarrizar importancia\n",
    "print(importance_reg)  \n",
    "# Visualizar \n",
    "importance_reg.nlargest(20).plot(kind='bar')"
   ]
  },
  {
   "cell_type": "code",
   "execution_count": 314,
   "metadata": {},
   "outputs": [
    {
     "name": "stdout",
     "output_type": "stream",
     "text": [
      "             Specs          Score\n",
      "2            VALUE  832913.565574\n",
      "0             LOAN  109273.612530\n",
      "1          MORTDUE  105697.904883\n",
      "9          DEBTINC    7415.901859\n",
      "6            CLAGE    6929.383586\n",
      "5           DELINQ    1674.908710\n",
      "4            DEROG     973.842923\n",
      "7             NINQ     354.282932\n",
      "3              YOJ      54.124131\n",
      "11  JOB_CAT_Office      24.553417\n"
     ]
    }
   ],
   "source": [
    "#Seleção Univariate Por chi2 \n",
    "import pandas as pd\n",
    "import numpy as np\n",
    "from sklearn.feature_selection import SelectKBest\n",
    "from sklearn.feature_selection import chi2\n",
    "#apply SelectKBest class to extract top 10 best features\n",
    "bestfeatures = SelectKBest(score_func=chi2, k=10)\n",
    "fit = bestfeatures.fit(X_transformed,y_train)\n",
    "dfscores = pd.DataFrame(fit.scores_)\n",
    "dfcolumns = pd.DataFrame(X_transformed.columns)\n",
    "#concat two dataframes for better visualization \n",
    "featureScores = pd.concat([dfcolumns,dfscores],axis=1)\n",
    "featureScores.columns = ['Specs','Score']  #naming the dataframe columns\n",
    "print(featureScores.nlargest(10,'Score'))  #print 10 best features\n",
    "#Poderiamos normalizar as variaveis continuas antes  \n",
    "#Poderiamos fazer essa validação antes de criar o OnehotEncode"
   ]
  },
  {
   "cell_type": "code",
   "execution_count": 315,
   "metadata": {},
   "outputs": [],
   "source": [
    "from feature_engine.selection import SelectByInformationValue\n",
    "\n",
    "iv = SelectByInformationValue(bins=5,\n",
    "    strategy=\"equal_frequency\",\n",
    "    threshold=0.02,)\n",
    "\n",
    "X_transformed = iv.fit_transform(X_transformed, y_train)"
   ]
  },
  {
   "cell_type": "code",
   "execution_count": 316,
   "metadata": {},
   "outputs": [
    {
     "name": "stdout",
     "output_type": "stream",
     "text": [
      "[0.10138833 0.09929445 0.1267954  0.08942655 0.10937737 0.06591965\n",
      " 0.10248063 0.30531763]\n"
     ]
    },
    {
     "data": {
      "image/png": "[encoded data removed]",
      "text/plain": [
       "<Figure size 432x288 with 1 Axes>"
      ]
     },
     "metadata": {},
     "output_type": "display_data"
    }
   ],
   "source": [
    "#Testar seleção de variaveis -  Arvore\n",
    "import pandas as pd\n",
    "import numpy as np\n",
    "from sklearn.ensemble import ExtraTreesClassifier\n",
    "import matplotlib.pyplot as plt\n",
    "model = ExtraTreesClassifier()\n",
    "model.fit(X_transformed,y_train)\n",
    "print(model.feature_importances_) #Utiliza uma arvore para definir a importancia das variaveis!\n",
    "#Visualização da importnacia\n",
    "importance_tree = pd.Series(model.feature_importances_, index=X_transformed.columns)\n",
    "importance_tree.nlargest(14).plot(kind='barh')\n",
    "plt.show() \n",
    "#Poderiamos normalizar as variaveis continuas antes  \n",
    "#Poderiamos fazer essa validação antes de criar o OnehotEncode"
   ]
  },
  {
   "cell_type": "code",
   "execution_count": 317,
   "metadata": {},
   "outputs": [
    {
     "data": {
      "image/png": "[encoded data removed]",
      "text/plain": [
       "<Figure size 1440x1440 with 2 Axes>"
      ]
     },
     "metadata": {},
     "output_type": "display_data"
    }
   ],
   "source": [
    "# Correlação !!\n",
    "import pandas as pd\n",
    "import numpy as np\n",
    "import seaborn as sns\n",
    "\n",
    "#get correlations of each features in dataset\n",
    "corrmat = X_transformed.join(y_train).corr()\n",
    "top_corr_features = corrmat.index\n",
    "plt.figure(figsize=(20,20))\n",
    "#plot heat map\n",
    "g=sns.heatmap(X_transformed.join(y_train)[top_corr_features].corr(),annot=True,cmap=\"RdYlGn\")"
   ]
  },
  {
   "cell_type": "code",
   "execution_count": 318,
   "metadata": {},
   "outputs": [
    {
     "data": {
      "text/plain": [
       "Index(['LOAN', 'MORTDUE', 'VALUE', 'YOJ', 'CLAGE', 'NINQ', 'CLNO', 'DEBTINC'], dtype='object')"
      ]
     },
     "execution_count": 318,
     "metadata": {},
     "output_type": "execute_result"
    }
   ],
   "source": [
    "X_transformed.columns"
   ]
  },
  {
   "cell_type": "code",
   "execution_count": 319,
   "metadata": {},
   "outputs": [],
   "source": [
    "#Selecionar Variaveis\n",
    "x_final = X_transformed[['LOAN',                     \n",
    "                    'VALUE', \n",
    "                    'YOJ', \n",
    "                    'CLAGE', \n",
    "                    'NINQ', \n",
    "                    'CLNO', \n",
    "                    'DEBTINC',\n",
    "    ]]\n",
    "\n",
    "x_test_final =X_test_transformed[['LOAN',                     \n",
    "                    'VALUE', \n",
    "                    'YOJ', \n",
    "                    'CLAGE', \n",
    "                    'NINQ', \n",
    "                    'CLNO', \n",
    "                    'DEBTINC',\n",
    "    ]]"
   ]
  },
  {
   "cell_type": "code",
   "execution_count": 320,
   "metadata": {},
   "outputs": [],
   "source": [
    "from sklearn.linear_model import LogisticRegression\n",
    "from sklearn.metrics import classification_report, confusion_matrix\n",
    "model = LogisticRegression(solver='newton-cg',penalty ='l2',n_jobs =-1, random_state=0)"
   ]
  },
  {
   "cell_type": "code",
   "execution_count": 321,
   "metadata": {},
   "outputs": [
    {
     "data": {
      "text/plain": [
       "LogisticRegression(n_jobs=-1, random_state=0, solver='newton-cg')"
      ]
     },
     "execution_count": 321,
     "metadata": {},
     "output_type": "execute_result"
    }
   ],
   "source": [
    "model.fit(x_final, y_train)"
   ]
  },
  {
   "cell_type": "code",
   "execution_count": 322,
   "metadata": {},
   "outputs": [
    {
     "data": {
      "text/plain": [
       "0.8489932885906041"
      ]
     },
     "execution_count": 322,
     "metadata": {},
     "output_type": "execute_result"
    }
   ],
   "source": [
    "#Numero de predições corretas\n",
    "model.score(x_final, y_train)"
   ]
  },
  {
   "cell_type": "code",
   "execution_count": 323,
   "metadata": {},
   "outputs": [
    {
     "data": {
      "text/html": [
       "<div>\n",
       "<style scoped>\n",
       "    .dataframe tbody tr th:only-of-type {\n",
       "        vertical-align: middle;\n",
       "    }\n",
       "\n",
       "    .dataframe tbody tr th {\n",
       "        vertical-align: top;\n",
       "    }\n",
       "\n",
       "    .dataframe thead th {\n",
       "        text-align: right;\n",
       "    }\n",
       "</style>\n",
       "<table border=\"1\" class=\"dataframe\">\n",
       "  <thead>\n",
       "    <tr style=\"text-align: right;\">\n",
       "      <th></th>\n",
       "      <th>Feature name</th>\n",
       "      <th>Coefficients</th>\n",
       "    </tr>\n",
       "  </thead>\n",
       "  <tbody>\n",
       "    <tr>\n",
       "      <th>0</th>\n",
       "      <td>Intercept</td>\n",
       "      <td>3.187155e-01</td>\n",
       "    </tr>\n",
       "    <tr>\n",
       "      <th>1</th>\n",
       "      <td>LOAN</td>\n",
       "      <td>-4.928684e-08</td>\n",
       "    </tr>\n",
       "    <tr>\n",
       "      <th>2</th>\n",
       "      <td>VALUE</td>\n",
       "      <td>-1.006919e-06</td>\n",
       "    </tr>\n",
       "    <tr>\n",
       "      <th>3</th>\n",
       "      <td>YOJ</td>\n",
       "      <td>-5.118114e-03</td>\n",
       "    </tr>\n",
       "    <tr>\n",
       "      <th>4</th>\n",
       "      <td>CLAGE</td>\n",
       "      <td>-5.911406e-03</td>\n",
       "    </tr>\n",
       "    <tr>\n",
       "      <th>5</th>\n",
       "      <td>NINQ</td>\n",
       "      <td>1.659698e-01</td>\n",
       "    </tr>\n",
       "    <tr>\n",
       "      <th>6</th>\n",
       "      <td>CLNO</td>\n",
       "      <td>2.586863e-02</td>\n",
       "    </tr>\n",
       "    <tr>\n",
       "      <th>7</th>\n",
       "      <td>DEBTINC</td>\n",
       "      <td>-6.178990e-02</td>\n",
       "    </tr>\n",
       "  </tbody>\n",
       "</table>\n",
       "</div>"
      ],
      "text/plain": [
       "  Feature name  Coefficients\n",
       "0    Intercept  3.187155e-01\n",
       "1         LOAN -4.928684e-08\n",
       "2        VALUE -1.006919e-06\n",
       "3          YOJ -5.118114e-03\n",
       "4        CLAGE -5.911406e-03\n",
       "5         NINQ  1.659698e-01\n",
       "6         CLNO  2.586863e-02\n",
       "7      DEBTINC -6.178990e-02"
      ]
     },
     "execution_count": 323,
     "metadata": {},
     "output_type": "execute_result"
    }
   ],
   "source": [
    "feature_name = x_final.columns.values\n",
    "summary_table = pd.DataFrame(columns = ['Feature name'], data = feature_name)\n",
    "summary_table['Coefficients'] = np.transpose(model.coef_)\n",
    "summary_table.index = summary_table.index + 1\n",
    "summary_table.loc[0] = ['Intercept', model.intercept_[0]]\n",
    "summary_table = summary_table.sort_index()\n",
    "summary_table"
   ]
  },
  {
   "cell_type": "code",
   "execution_count": 324,
   "metadata": {},
   "outputs": [
    {
     "name": "stdout",
     "output_type": "stream",
     "text": [
      "              precision    recall  f1-score   support\n",
      "\n",
      "           0       0.87      0.95      0.91      3817\n",
      "           1       0.69      0.44      0.54       951\n",
      "\n",
      "    accuracy                           0.85      4768\n",
      "   macro avg       0.78      0.69      0.72      4768\n",
      "weighted avg       0.84      0.85      0.84      4768\n",
      "\n"
     ]
    }
   ],
   "source": [
    "print(classification_report(y_train, model.predict(x_final)))"
   ]
  },
  {
   "cell_type": "code",
   "execution_count": 325,
   "metadata": {},
   "outputs": [],
   "source": [
    "from sklearn.metrics import roc_curve\n",
    "from sklearn.metrics import roc_auc_score\n",
    "from matplotlib import pyplot\n",
    "\n",
    "ns_probs = y_test\n",
    "lr_probs = model.predict_proba(x_test_final)\n",
    "lr_probs = lr_probs[:, 1]"
   ]
  },
  {
   "cell_type": "code",
   "execution_count": 327,
   "metadata": {},
   "outputs": [
    {
     "data": {
      "text/plain": [
       "0.8565436241610739"
      ]
     },
     "execution_count": 327,
     "metadata": {},
     "output_type": "execute_result"
    }
   ],
   "source": [
    "#Numero de predições corretas\n",
    "model.score(x_test_final, y_test)"
   ]
  },
  {
   "cell_type": "code",
   "execution_count": 326,
   "metadata": {},
   "outputs": [
    {
     "name": "stdout",
     "output_type": "stream",
     "text": [
      "No Skill: ROC AUC=0.500\n",
      "Logistic: ROC AUC=0.800\n"
     ]
    },
    {
     "data": {
      "text/plain": [
       "<matplotlib.legend.Legend at 0x13e285ba9d0>"
      ]
     },
     "execution_count": 326,
     "metadata": {},
     "output_type": "execute_result"
    },
    {
     "data": {
      "image/png": "[encoded data removed]",
      "text/plain": [
       "<Figure size 432x288 with 1 Axes>"
      ]
     },
     "metadata": {},
     "output_type": "display_data"
    }
   ],
   "source": [
    "y_train_pred = model.predict(x_final)\n",
    "y_test_pred = model.predict(x_test_final)\n",
    "\n",
    "ns_probs = [0 for _ in range(len(y_test))]\n",
    "\n",
    "lr_probs = model.predict_proba(x_test_final)\n",
    "lr_probs = lr_probs[:, 1]                               \n",
    "ns_auc = roc_auc_score(y_test, ns_probs)\n",
    "lr_auc = roc_auc_score(y_test, lr_probs)\n",
    "\n",
    "# summarize scores\n",
    "print('No Skill: ROC AUC=%.3f' % (ns_auc))\n",
    "print('Logistic: ROC AUC=%.3f' % (lr_auc))\n",
    "# calculate roc curves\n",
    "ns_fpr, ns_tpr, _ = roc_curve(y_test, ns_probs)\n",
    "lr_fpr, lr_tpr, _ = roc_curve(y_test, lr_probs)\n",
    "# plot the roc curve for the model\n",
    "pyplot.plot(ns_fpr, ns_tpr, linestyle='--', label='No Skill')\n",
    "pyplot.plot(lr_fpr, lr_tpr, marker='.', label='Logistic')\n",
    "# axis labels\n",
    "pyplot.xlabel('False Positive Rate')\n",
    "pyplot.ylabel('True Positive Rate')\n",
    "# show the legend\n",
    "pyplot.legend()\n",
    "# show the plot"
   ]
  },
  {
   "cell_type": "code",
   "execution_count": 328,
   "metadata": {},
   "outputs": [],
   "source": [
    "from sklearn.ensemble import GradientBoostingClassifier\n",
    "from sklearn.metrics import classification_report, confusion_matrix\n",
    "model = GradientBoostingClassifier(n_estimators=100, learning_rate=0.1, max_depth=3, random_state=42)"
   ]
  },
  {
   "cell_type": "code",
   "execution_count": 337,
   "metadata": {},
   "outputs": [
    {
     "data": {
      "text/plain": [
       "GradientBoostingClassifier(random_state=42)"
      ]
     },
     "execution_count": 337,
     "metadata": {},
     "output_type": "execute_result"
    }
   ],
   "source": [
    "model.fit(x_final, y_train)"
   ]
  },
  {
   "cell_type": "code",
   "execution_count": 331,
   "metadata": {},
   "outputs": [
    {
     "data": {
      "text/plain": [
       "0.9018456375838926"
      ]
     },
     "execution_count": 331,
     "metadata": {},
     "output_type": "execute_result"
    }
   ],
   "source": [
    "#Numero de predições corretas\n",
    "model.score(x_final, y_train)"
   ]
  },
  {
   "cell_type": "code",
   "execution_count": 332,
   "metadata": {},
   "outputs": [
    {
     "data": {
      "text/plain": [
       "0.8859060402684564"
      ]
     },
     "execution_count": 332,
     "metadata": {},
     "output_type": "execute_result"
    }
   ],
   "source": [
    "#Numero de predições corretas\n",
    "model.score(x_test_final, y_test)"
   ]
  },
  {
   "cell_type": "code",
   "execution_count": 335,
   "metadata": {},
   "outputs": [
    {
     "name": "stdout",
     "output_type": "stream",
     "text": [
      "Relatório de Classificação:\n",
      "              precision    recall  f1-score   support\n",
      "\n",
      "           0       0.91      0.95      0.93       954\n",
      "           1       0.76      0.63      0.69       238\n",
      "\n",
      "    accuracy                           0.89      1192\n",
      "   macro avg       0.83      0.79      0.81      1192\n",
      "weighted avg       0.88      0.89      0.88      1192\n",
      "\n"
     ]
    }
   ],
   "source": [
    "# Faça previsões e avalie o modelo\n",
    "y_pred = model.predict(x_test_final)\n",
    "print(\"Relatório de Classificação:\")\n",
    "print(classification_report(y_test, y_pred))"
   ]
  }
 ],
 "metadata": {
  "kernelspec": {
   "display_name": "base",
   "language": "python",
   "name": "python3"
  },
  "language_info": {
   "codemirror_mode": {
    "name": "ipython",
    "version": 3
   },
   "file_extension": ".py",
   "mimetype": "text/x-python",
   "name": "python",
   "nbconvert_exporter": "python",
   "pygments_lexer": "ipython3",
   "version": "3.9.12"
  },
  "orig_nbformat": 4
 },
 "nbformat": 4,
 "nbformat_minor": 2
}
